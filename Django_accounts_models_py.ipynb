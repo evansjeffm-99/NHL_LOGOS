{
  "cells": [
    {
      "cell_type": "markdown",
      "metadata": {
        "id": "view-in-github",
        "colab_type": "text"
      },
      "source": [
        "<a href=\"https://colab.research.google.com/github/evansjeffm-99/NHL_LOGOS/blob/main/Django_accounts_models_py.ipynb\" target=\"_parent\"><img src=\"https://colab.research.google.com/assets/colab-badge.svg\" alt=\"Open In Colab\"/></a>"
      ]
    },
    {
      "cell_type": "code",
      "source": [
        "# accounts/models.py\n",
        "from django.db import models\n",
        "from django.contrib.auth.models import AbstractUser\n",
        "from django.conf import settings # Recommended way to refer to AUTH_USER_MODEL\n",
        "from django.db.models.signals import post_save\n",
        "from django.dispatch import receiver\n",
        "\n",
        "# Extend the built-in User model\n",
        "class User(AbstractUser):\n",
        "    \"\"\"\n",
        "    Custom User model extending Django's AbstractUser.\n",
        "    Uses email as the unique identifier instead of username by default.\n",
        "    \"\"\"\n",
        "    # Add any extra fields for the User model itself if needed\n",
        "    # Example: make email required and unique for login\n",
        "    email = models.EmailField(unique=True, blank=False, null=False)\n",
        "\n",
        "    # Optional: Define email as the username field for authentication\n",
        "    # USERNAME_FIELD = 'email'\n",
        "    # REQUIRED_FIELDS = ['username'] # Fields required when creating user via createsuperuser\n",
        "\n",
        "    def __str__(self):\n",
        "        \"\"\"String representation of the User model.\"\"\"\n",
        "        return self.username\n",
        "\n",
        "# Profile model linked to the User model via a OneToOneField\n",
        "class Profile(models.Model):\n",
        "    \"\"\"\n",
        "    Stores additional user profile information, linked one-to-one with the User model.\n",
        "    \"\"\"\n",
        "    # OneToOneField ensures each user has exactly one profile.\n",
        "    # `related_name='profile'` allows accessing the profile from the user instance (e.g., user.profile)\n",
        "    user = models.OneToOneField(\n",
        "        settings.AUTH_USER_MODEL, # Reference the custom User model defined in settings\n",
        "        on_delete=models.CASCADE,  # If the User is deleted, delete the Profile too\n",
        "        related_name='profile'\n",
        "    )\n",
        "    # Optional avatar field, stores images in MEDIA_ROOT/avatars/\n",
        "    avatar = models.ImageField(upload_to='avatars/', null=True, blank=True)\n",
        "    # Optional text field for favorite team\n",
        "    favorite_team = models.CharField(max_length=100, blank=True)\n",
        "    # Optional text field for user biography\n",
        "    bio = models.TextField(blank=True)\n",
        "\n",
        "    def __str__(self):\n",
        "        \"\"\"String representation of the Profile model.\"\"\"\n",
        "        return f\"{self.user.username}'s Profile\"\n",
        "\n",
        "# --- Signals ---\n",
        "\n",
        "# Use signals to automatically create/update related models when the User model changes.\n",
        "\n",
        "@receiver(post_save, sender=settings.AUTH_USER_MODEL)\n",
        "def create_user_profile(sender, instance, created, **kwargs):\n",
        "    \"\"\"\n",
        "    Signal receiver function to automatically create a Profile instance\n",
        "    whenever a new User instance is created.\n",
        "    \"\"\"\n",
        "    # Check if a new User instance was actually created\n",
        "    if created:\n",
        "        # Create a new Profile linked to the new User\n",
        "        Profile.objects.create(user=instance)\n",
        "        # print(f\"Profile created for user {instance.username}\") # For debugging\n",
        "\n",
        "@receiver(post_save, sender=settings.AUTH_USER_MODEL)\n",
        "def save_user_profile(sender, instance, **kwargs):\n",
        "    \"\"\"\n",
        "    Signal receiver function to save the associated Profile instance\n",
        "    whenever the User instance is saved.\n",
        "    This ensures that if the profile relationship somehow didn't exist,\n",
        "    it gets created, or if other logic updates the profile via the user, it's saved.\n",
        "    \"\"\"\n",
        "    try:\n",
        "        # Access the related profile and save it.\n",
        "        instance.profile.save()\n",
        "        # print(f\"Profile saved for user {instance.username}\") # For debugging\n",
        "    except Profile.DoesNotExist:\n",
        "        # This case should ideally be handled by the create_user_profile signal,\n",
        "        # but this provides a fallback just in case.\n",
        "        # print(f\"Profile did not exist for user {instance.username}, creating one.\") # For debugging\n",
        "        Profile.objects.create(user=instance)"
      ],
      "outputs": [],
      "execution_count": null,
      "metadata": {
        "id": "p6BldUa689cg"
      }
    }
  ],
  "metadata": {
    "colab": {
      "provenance": [],
      "include_colab_link": true
    },
    "kernelspec": {
      "display_name": "Python 3",
      "name": "python3"
    }
  },
  "nbformat": 4,
  "nbformat_minor": 0
}